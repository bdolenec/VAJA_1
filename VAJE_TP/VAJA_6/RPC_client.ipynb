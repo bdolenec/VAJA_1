{
 "cells": [
  {
   "cell_type": "markdown",
   "metadata": {},
   "source": [
    "# Vaja - RPC client\n",
    "\n",
    "Izdelali bomo preprost rpc client z uporabo knjižnice requests. Na koncu če bomo imeli čas si bomo ogledali kako lahko nastalo kodo še dodatno optimiziramo tako da uporabimo async  in batching metodi. \n",
    "\n",
    "Dokumentacija RPC api-ja: https://ethereum.github.io/execution-apis/api-documentation/\n",
    "\n",
    "## Prvi del - samostojna izdelava klienta (zaprosimo za zadnji blok)\n",
    "\n",
    "- Definiramo variable, ki so potrebne za request (POST)\n",
    "- Pošljemo request\n",
    "- Preverimo če je odgovor pravilen, ter shranimo odgovor v json (if pravilen)\n"
   ]
  },
  {
   "cell_type": "markdown",
   "metadata": {},
   "source": [
    "\n",
    "#### Implementiraj kodo (pomagaj si z comments)\n",
    "\n",
    "\n",
    "\n",
    "\n",
    "\n"
   ]
  },
  {
   "cell_type": "code",
   "execution_count": 10,
   "metadata": {},
   "outputs": [
    {
     "name": "stdout",
     "output_type": "stream",
     "text": [
      "Dobili smo blok\n"
     ]
    }
   ],
   "source": [
    "import requests\n",
    "import json\n",
    "\n",
    "# Definirajte spremenljivke vaše skripte\n",
    "apiurl = \"https://mainnet.infura.io/v3/0bb380ad1c934961b2c0f1f3de75c59a\"\n",
    "\n",
    "# JSON-RPC zahteva (payload) (preverite dokumentacijo!)\n",
    "rpcpayload = {\n",
    "    \"jsonrpc\": \"2.0\",\n",
    "    \"method\": \"eth_getBlockByNumber\",\n",
    "    \"params\": [\"latest\", True],\n",
    "    \"id\": 1\n",
    "}\n",
    "\n",
    "# Nastavitev headerjev za JSON-RPC zahtevo\n",
    "headers = {\n",
    "    'Content-Type': 'application/json'\n",
    "}\n",
    "\n",
    "# Pošljite zahtevo (uporabite metodo requests.post)\n",
    "response = requests.post(apiurl, data=json.dumps(rpcpayload), headers=headers)\n",
    "\n",
    "if response.status_code == 200:\n",
    "    print(\"Dobili smo blok\")\n",
    "    with open('blockData.json', 'w') as f:\n",
    "        json.dump(response.json(), f, indent=4)\n",
    "else:\n",
    "    print(f\"Ni uspelo. Napaka koda: {response.status_code}\")\n"
   ]
  },
  {
   "cell_type": "markdown",
   "metadata": {},
   "source": [
    "\n",
    "## Drugi del - delo s podatki (block_data.json)\n",
    "\n",
    "V bloku imamo del kjer so zapisane transakcije, naša naloga je, da preštejemo koliko je teh transakcij."
   ]
  },
  {
   "cell_type": "code",
   "execution_count": 11,
   "metadata": {},
   "outputs": [
    {
     "name": "stdout",
     "output_type": "stream",
     "text": [
      "120\n"
     ]
    }
   ],
   "source": [
    "\n",
    "\n",
    "data = blockData.copy()\n",
    "\n",
    "\n",
    "counter = 0\n",
    "\n",
    "for transaction in data[\"result\"] [\"transactions\"]:\n",
    "    counter += 1\n",
    "\n",
    "print(counter)"
   ]
  },
  {
   "cell_type": "markdown",
   "metadata": {},
   "source": [
    "\n",
    "##  Tretji del - DODATNA VAJA ni obezna - izluščimo vse naslove (from, to) iz transakcij\n",
    "\n",
    "V vsaki transakciji imamo definirana naslova pošiljalca (\"from\") in prejemnika (\"to\"). Naša naloga je, da izluščimo vse naslove in jih shranimo v dictionary kot ključe (key). Za vrednosti (value) pa zaenkrat zapisemo vrednost None.\n"
   ]
  },
  {
   "cell_type": "code",
   "execution_count": null,
   "metadata": {},
   "outputs": [],
   "source": [
    "\n",
    "# naredimo kopijo podatkov - .copy() metoda\n",
    "\n",
    "\n",
    "# definiramo dictionary za shranjevanje naslovov\n",
    "\n",
    "\n",
    "# iteriramo čez transakcije in izluščimo naslove (.get(\"from\")   .get(\"to\")) in jih shranimo v dictionary\n",
    "\n",
    "\n",
    "# sprintamo dictionary\n",
    "\n"
   ]
  },
  {
   "cell_type": "markdown",
   "metadata": {},
   "source": [
    "## Četrti del - refactoring\n",
    "\n",
    "Do sedaj spisano kodo spravite v funkciji in nato napisite se main() funkcijo ki klice funkciji v pravilnem vrstnem redu. Rezultat je bolj pregledna in modularna skripta.\n",
    "\n",
    "- Kodo do zdaj spravi v funkciji\n",
    "- Napiši še dodatno funkcijo main() ki bo klicala obe funkciji v pravilnem vrstnem redu\n",
    "    - npr. 1. funkcija getBlock 2. funkcija steviloTransakcij ali izlusciNaslove\n"
   ]
  },
  {
   "cell_type": "code",
   "execution_count": 20,
   "metadata": {},
   "outputs": [
    {
     "name": "stdout",
     "output_type": "stream",
     "text": [
      "Dobili smo blok\n",
      "Število transakcij: 156\n"
     ]
    }
   ],
   "source": [
    "import requests\n",
    "import json\n",
    "\n",
    "def get_block_data():\n",
    "    # Definirajte spremenljivke vaše skripte\n",
    "    apiurl = \"https://mainnet.infura.io/v3/0bb380ad1c934961b2c0f1f3de75c59a\"\n",
    "\n",
    "    # JSON-RPC zahteva (payload) (preverite dokumentacijo!)\n",
    "    rpcpayload = {\n",
    "        \"jsonrpc\": \"2.0\",\n",
    "        \"method\": \"eth_getBlockByNumber\",\n",
    "        \"params\": [\"latest\", True],\n",
    "        \"id\": 1\n",
    "    }\n",
    "\n",
    "    # Nastavitev headerjev za JSON-RPC zahtevo\n",
    "    headers = {\n",
    "        'Content-Type': 'application/json'\n",
    "    }\n",
    "\n",
    "    # Pošljite zahtevo (uporabite metodo requests.post)\n",
    "    response = requests.post(apiurl, data=json.dumps(rpcpayload), headers=headers)\n",
    "\n",
    "    if response.status_code == 200:\n",
    "        print(\"Dobili smo blok\")\n",
    "        with open('blockData.json', 'w') as f:\n",
    "            json.dump(response.json(), f, indent=4)\n",
    "        return response.json()\n",
    "    else:\n",
    "        print(f\"Ni uspelo. Napaka koda: {response.status_code}\")\n",
    "        return None\n",
    "    \n",
    "\n",
    "def count_transactions(blockData):\n",
    "    if blockData:\n",
    "        counter = 0\n",
    "        for transaction in blockData[\"result\"][\"transactions\"]:\n",
    "            counter += 1\n",
    "        return counter\n",
    "    else:\n",
    "        return 0\n",
    "\n",
    "def main():\n",
    "    blockData = get_block_data()\n",
    "    if blockData:\n",
    "        transactions_count = count_transactions(blockData)\n",
    "        print(f\"Število transakcij: {transactions_count}\")\n",
    "    else:\n",
    "        print(\"Napaka pri pridobivanju podatkov o bloku.\")\n",
    "\n",
    "if __name__ == \"__main__\":\n",
    "    main()\n"
   ]
  }
 ],
 "metadata": {
  "kernelspec": {
   "display_name": "Python 3 (ipykernel)",
   "language": "python",
   "name": "python3"
  },
  "language_info": {
   "codemirror_mode": {
    "name": "ipython",
    "version": 3
   },
   "file_extension": ".py",
   "mimetype": "text/x-python",
   "name": "python",
   "nbconvert_exporter": "python",
   "pygments_lexer": "ipython3",
   "version": "3.12.0"
  }
 },
 "nbformat": 4,
 "nbformat_minor": 2
}
