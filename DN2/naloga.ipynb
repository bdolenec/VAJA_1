{
 "cells": [
  {
   "cell_type": "markdown",
   "metadata": {},
   "source": [
    "# **Naloga 1**\n",
    "\n",
    "Iz sledečega list-a pridobite vrednost ffff in jo shranite v spremenljivko f_vrednost:\n",
    "\n",
    "```\n",
    "our_list = [\"a\", [\"bb\", \"cc\"], \"d\", [[\"eee\"], [\"ffff\"], \"ggg\"]]\n",
    "```\n",
    "\n"
   ]
  },
  {
   "cell_type": "code",
   "execution_count": 3,
   "metadata": {},
   "outputs": [
    {
     "name": "stdout",
     "output_type": "stream",
     "text": [
      "['ffff']\n"
     ]
    }
   ],
   "source": [
    "our_list = [\"a\", [\"bb\", \"cc\"], \"d\", [[\"eee\"], [\"ffff\"], \"ggg\"]]\n",
    "\n",
    "f_vrednost = our_list[3][1]\n",
    "\n",
    "print(f_vrednost)\n"
   ]
  },
  {
   "cell_type": "markdown",
   "metadata": {},
   "source": [
    "# **Naloga 2**\n",
    "\n",
    "Iz sledečega lista our_list odstranite vrednost, ki se nahaja na indexu 4. Vrednost dodajte v dictionary pod ključ d. Nato iz dictionary our_dict pridobite vse vrednosti. Te vrednosti shranite v nov tuple in novonastali tuple primerjajte ali je enak podanemu tuple-u our_tuple.\n",
    "```\n",
    "our_list = [1,2,3,4,5,6,7]\n",
    "our_dict = {\n",
    "    \"a\": 2,\n",
    "    \"b\": 5,\n",
    "    \"c\": 8,\n",
    "    \"d\": 12,\n",
    "    \"e\": 357,\n",
    "    \"f\": 12\n",
    "}\n",
    "our_tuple = (357, 12, 12, 8, 5, 2, 2)\n",
    "```\n"
   ]
  },
  {
   "cell_type": "code",
   "execution_count": 11,
   "metadata": {},
   "outputs": [
    {
     "name": "stdout",
     "output_type": "stream",
     "text": [
      "(2, 5, 8, 5, 357, 12)\n",
      "tupla nista ista\n"
     ]
    }
   ],
   "source": [
    "\n",
    "our_list = [1,2,3,4,5,6,7]\n",
    "our_dict = {\n",
    "    \"a\": 2,\n",
    "    \"b\": 5,\n",
    "    \"c\": 8,\n",
    "    \"d\": 12,\n",
    "    \"e\": 357,\n",
    "    \"f\": 12\n",
    "}\n",
    "our_tuple = (357, 12, 12, 8, 5, 2, 2)\n",
    "\n",
    "#koda\n",
    "\n",
    "index_our_list = int(4)\n",
    "our_pop = our_list.pop(index_our_list) #pod indexom 4 odstranim število in ga pišem v spremenljivko our_pop\n",
    "\n",
    "our_kljuc = \"d\"\n",
    "our_dict[our_kljuc] = our_pop #spremenljivko our_pop pod ključem d zapišem v naš slovar\n",
    "\n",
    "our_novtuple = tuple(our_dict.values()) #definiram  novi tuple kamor shranim vse vrednosti brez ključev\n",
    "print(our_novtuple)\n",
    "\n",
    "if our_novtuple == our_tuple:\n",
    "    print(\"tupla sta enaka\")\n",
    "else:\n",
    "    print(\"tupla nista ista\")\n",
    "\n",
    "\n",
    "\n"
   ]
  },
  {
   "cell_type": "markdown",
   "metadata": {},
   "source": [
    "# **Naloga 3**\n",
    "\n",
    "Iz danega dictionary-ja d izpišite vse ključe, katerih vrednost vsebuje črko r ali veliko tiskano črko R.\n",
    "\n",
    "```\n",
    "d = {\n",
    "    \"mačka\": \"Micka\",\n",
    "    \"pes\": \"Fido\",\n",
    "    \"volk\": \"Rex\",\n",
    "    \"medved\": \"Žan\",\n",
    "    \"slon\": \"Jan\",\n",
    "    \"žirafa\": \"Helga\",\n",
    "    \"lev\": \"Gašper\",\n",
    "    \"tiger\": \"Anže\",\n",
    "    \"papagaj\": \"Črt\",\n",
    "    \"ribica\": \"Elena\",\n",
    "    \"krokodil\": \"Kasper\",\n",
    "    \"zajec\": \"Lars\",\n",
    "    \"kamela\": \"Manca\" \n",
    "}\n",
    "```"
   ]
  },
  {
   "cell_type": "code",
   "execution_count": 41,
   "metadata": {},
   "outputs": [
    {
     "name": "stdout",
     "output_type": "stream",
     "text": [
      "Račka\n",
      "žirafa\n",
      "tiger\n",
      "ribica\n",
      "krokodil\n"
     ]
    }
   ],
   "source": [
    "d = {\n",
    "    \"Račka\": \"Micka\",\n",
    "    \"pes\": \"Fido\",\n",
    "    \"volk\": \"Rex\",\n",
    "    \"medved\": \"Žan\",\n",
    "    \"slon\": \"Jan\",\n",
    "    \"žirafa\": \"Helga\",\n",
    "    \"lev\": \"Gašper\",\n",
    "    \"tiger\": \"Anže\",\n",
    "    \"papagaj\": \"Črt\",\n",
    "    \"ribica\": \"Elena\",\n",
    "    \"krokodil\": \"Kasper\",\n",
    "    \"zajec\": \"Lars\",\n",
    "    \"kamela\": \"Manca\" \n",
    "}\n",
    "\n",
    "ključi_stari = list(d.keys())\n",
    "ključi_novi = []\n",
    "\n",
    "for beseda in ključi_stari:\n",
    "    if (\"r\" in beseda) or (\"R\" in beseda):\n",
    "        print(beseda) \n"
   ]
  },
  {
   "cell_type": "markdown",
   "metadata": {},
   "source": [
    "# **Naloga 4**\n",
    "\n",
    "Poiščite vsa praštevila med 1 in 50"
   ]
  },
  {
   "cell_type": "code",
   "execution_count": 88,
   "metadata": {},
   "outputs": [
    {
     "name": "stdout",
     "output_type": "stream",
     "text": [
      "[2, 3, 5, 7, 11, 13, 17, 19, 23, 29, 31, 37, 41, 43, 47]\n"
     ]
    }
   ],
   "source": [
    "vsa_stevila = []\n",
    "for n in range(2,51,1):\n",
    "    vsa_stevila.append(n)\n",
    "\n",
    "prastevila = vsa_stevila.copy()\n",
    "\n",
    "for stevilo in vsa_stevila:\n",
    "    if stevilo == 2:\n",
    "        continue\n",
    "    elif stevilo == 3:\n",
    "        continue\n",
    "    elif stevilo == 5:\n",
    "        continue\n",
    "    elif stevilo == 7:\n",
    "        continue\n",
    "    elif ((stevilo % 2 == 0) or (stevilo % 3 == 0) or (stevilo % 5 == 0) or (stevilo % 7 == 0)):\n",
    "        prastevila.remove(stevilo)\n",
    "\n",
    "print(prastevila)\n"
   ]
  }
 ],
 "metadata": {
  "kernelspec": {
   "display_name": ".venv",
   "language": "python",
   "name": "python3"
  },
  "language_info": {
   "codemirror_mode": {
    "name": "ipython",
    "version": 3
   },
   "file_extension": ".py",
   "mimetype": "text/x-python",
   "name": "python",
   "nbconvert_exporter": "python",
   "pygments_lexer": "ipython3",
   "version": "3.12.0"
  }
 },
 "nbformat": 4,
 "nbformat_minor": 2
}
