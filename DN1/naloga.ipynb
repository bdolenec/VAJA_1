{
 "cells": [
  {
   "cell_type": "markdown",
   "metadata": {},
   "source": [
    "-----------------------------------------------------"
   ]
  },
  {
   "cell_type": "markdown",
   "metadata": {},
   "source": [
    "1 NALOGA"
   ]
  },
  {
   "cell_type": "code",
   "execution_count": 1,
   "metadata": {},
   "outputs": [
    {
     "name": "stdout",
     "output_type": "stream",
     "text": [
      "5\n",
      "<class 'str'>\n"
     ]
    }
   ],
   "source": [
    "n = input('Enter celo število prosm: ')\n",
    "print(n)\n",
    "print(type(n))"
   ]
  },
  {
   "cell_type": "code",
   "execution_count": 2,
   "metadata": {},
   "outputs": [
    {
     "name": "stdout",
     "output_type": "stream",
     "text": [
      "5.0\n",
      "<class 'float'>\n"
     ]
    }
   ],
   "source": [
    "n = float(n)\n",
    "print(n)\n",
    "print(type(n))"
   ]
  },
  {
   "cell_type": "markdown",
   "metadata": {},
   "source": [
    "-----------------------------------------------------"
   ]
  },
  {
   "cell_type": "markdown",
   "metadata": {},
   "source": [
    "2 NALOGA"
   ]
  },
  {
   "cell_type": "code",
   "execution_count": 5,
   "metadata": {},
   "outputs": [
    {
     "name": "stdout",
     "output_type": "stream",
     "text": [
      "[9, 9, 9, 9, 9, 9, 9, 9, 9, 9]\n"
     ]
    }
   ],
   "source": [
    "List1= [0,1,2,3,4,5,6,7,8,9]\n",
    "List2= [9,8,7,6,5,4,3,2,1,0]\n",
    "\n",
    "REZULTAT= []\n",
    "\n",
    "for i in range(0, 10, 1):\n",
    "    sestevek= List1[i]+ List2[i]\n",
    "    REZULTAT.append(sestevek)\n",
    "\n",
    "print(REZULTAT)\n"
   ]
  },
  {
   "cell_type": "markdown",
   "metadata": {},
   "source": [
    "-----------------------------------------------------"
   ]
  },
  {
   "cell_type": "markdown",
   "metadata": {},
   "source": [
    "3 NALOGA"
   ]
  },
  {
   "cell_type": "code",
   "execution_count": 10,
   "metadata": {},
   "outputs": [
    {
     "name": "stdout",
     "output_type": "stream",
     "text": [
      "vnesi 3 števila prosim: \n",
      "3 <class 'int'>\n",
      "3 <class 'int'>\n",
      "1 <class 'int'>\n",
      "druga vrednost je enaka prvi in tretja manjša oziroma enaka prvi\n"
     ]
    }
   ],
   "source": [
    "print('vnesi 3 števila prosim: ')\n",
    "x = int(input('prvo število:')) \n",
    "print(x,type(x))\n",
    "y = int(input('drugo število:'))\n",
    "print(y,type(y))\n",
    "z = int(input('tretje število:'))\n",
    "print(z,type(z))\n",
    "\n",
    "if x == y and z <= x:\n",
    "    print('druga vrednost je enaka prvi in tretja manjša oziroma enaka prvi')\n",
    "else:\n",
    "    print('druga vrednost ni enaka prvi in tretja ni manjša oziroma enaka prvi')\n",
    "\n",
    "\n"
   ]
  },
  {
   "cell_type": "markdown",
   "metadata": {},
   "source": [
    "-----------------------------------------------------"
   ]
  },
  {
   "cell_type": "markdown",
   "metadata": {},
   "source": [
    "4 NALOGA"
   ]
  },
  {
   "cell_type": "code",
   "execution_count": 15,
   "metadata": {},
   "outputs": [
    {
     "name": "stdout",
     "output_type": "stream",
     "text": [
      "\n",
      "*\n",
      "**\n",
      "***\n",
      "****\n",
      "*****\n"
     ]
    }
   ],
   "source": [
    "def izpisi_trikotnik(visina):\n",
    "    for i in range(visina+1):\n",
    "        print('*'*i)\n",
    "visina = int(input('vnesi višino trikotnika'))\n",
    "izpisi_trikotnik(visina)"
   ]
  },
  {
   "cell_type": "markdown",
   "metadata": {},
   "source": [
    "-----------------------------------------------------"
   ]
  }
 ],
 "metadata": {
  "kernelspec": {
   "display_name": "Python 3",
   "language": "python",
   "name": "python3"
  },
  "language_info": {
   "codemirror_mode": {
    "name": "ipython",
    "version": 3
   },
   "file_extension": ".py",
   "mimetype": "text/x-python",
   "name": "python",
   "nbconvert_exporter": "python",
   "pygments_lexer": "ipython3",
   "version": "3.12.0"
  }
 },
 "nbformat": 4,
 "nbformat_minor": 2
}
