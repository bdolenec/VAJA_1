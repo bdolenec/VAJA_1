{
 "cells": [
  {
   "cell_type": "code",
   "execution_count": 2,
   "metadata": {},
   "outputs": [],
   "source": [
    "x = 3"
   ]
  },
  {
   "cell_type": "markdown",
   "metadata": {},
   "source": [
    "definiramo našo spremenljivko in vanjo shranimo našo vrednost,\n",
    "katero želimo izpisati 5x"
   ]
  },
  {
   "cell_type": "code",
   "execution_count": 3,
   "metadata": {},
   "outputs": [
    {
     "name": "stdout",
     "output_type": "stream",
     "text": [
      "3\n",
      "3\n",
      "3\n",
      "3\n",
      "3\n"
     ]
    }
   ],
   "source": [
    "print(x)\n",
    "print(x)\n",
    "print(x)\n",
    "print(x)\n",
    "print(x)"
   ]
  },
  {
   "cell_type": "markdown",
   "metadata": {},
   "source": [
    "Če sedaj hočemo, da se namesto številke 3 izpiše številka 12 lahko enostavno popravimo 1 vrstico."
   ]
  },
  {
   "cell_type": "code",
   "execution_count": 4,
   "metadata": {},
   "outputs": [
    {
     "name": "stdout",
     "output_type": "stream",
     "text": [
      "12\n",
      "12\n",
      "12\n",
      "12\n",
      "12\n"
     ]
    }
   ],
   "source": [
    "x = 12\n",
    "print(x)\n",
    "print(x)\n",
    "print(x)\n",
    "print(x)\n",
    "print(x)"
   ]
  },
  {
   "cell_type": "markdown",
   "metadata": {},
   "source": [
    "V Pythonu so spremenljivke dinamične. To pomeni, da nam ni potrebno izrecno povedati računalniku\n",
    "kakšnega tipa je spremenljivka.\n",
    "Da vidimo kakšnega tipa je spremenljivka, uporabimo funkcijo: type()\n"
   ]
  },
  {
   "cell_type": "code",
   "execution_count": 8,
   "metadata": {},
   "outputs": [],
   "source": [
    "def sestevalnik (x,y):\n",
    "    y = x+y\n",
    "    return y\n",
    "\n"
   ]
  },
  {
   "cell_type": "code",
   "execution_count": 9,
   "metadata": {},
   "outputs": [
    {
     "data": {
      "text/plain": [
       "12"
      ]
     },
     "execution_count": 9,
     "metadata": {},
     "output_type": "execute_result"
    }
   ],
   "source": [
    "sestevalnik(5,7)"
   ]
  },
  {
   "cell_type": "markdown",
   "metadata": {},
   "source": [
    "type spremenljivke"
   ]
  },
  {
   "cell_type": "code",
   "execution_count": 4,
   "metadata": {},
   "outputs": [
    {
     "name": "stdout",
     "output_type": "stream",
     "text": [
      "1\n",
      "<class 'int'>\n",
      "5.123456789\n",
      "<class 'float'>\n"
     ]
    }
   ],
   "source": [
    "x = 1\n",
    "print(x)\n",
    "print(type(x)) # type(x) nam pove kakšnega tipa je spremenljivka x\n",
    "\n",
    "y = 5.123456789\n",
    "print(y)\n",
    "print(type(y))"
   ]
  },
  {
   "cell_type": "markdown",
   "metadata": {},
   "source": [
    "boolean"
   ]
  },
  {
   "cell_type": "code",
   "execution_count": 5,
   "metadata": {},
   "outputs": [
    {
     "name": "stdout",
     "output_type": "stream",
     "text": [
      "False\n",
      "False\n",
      "False\n",
      "False\n",
      "********\n",
      "True\n",
      "True\n",
      "True\n",
      "True\n"
     ]
    }
   ],
   "source": [
    "print(bool(False))\n",
    "print(bool(\"\"))\n",
    "print(bool(None))\n",
    "print(bool([]))\n",
    "print(\"********\")\n",
    "print(bool(True))\n",
    "print(bool(1))\n",
    "print(bool(\"abc\"))\n",
    "print(bool([1,2]))"
   ]
  },
  {
   "cell_type": "markdown",
   "metadata": {},
   "source": [
    "STRING"
   ]
  },
  {
   "cell_type": "code",
   "execution_count": 7,
   "metadata": {},
   "outputs": [
    {
     "name": "stdout",
     "output_type": "stream",
     "text": [
      "Stavek\n",
      "<class 'str'>\n"
     ]
    }
   ],
   "source": [
    "x = \"Stavek\" # navaden string z dvojnim narekovajem \"\"\n",
    "print(x)\n",
    "print(type(x))"
   ]
  },
  {
   "cell_type": "markdown",
   "metadata": {},
   "source": [
    "INPUT() FUNKCIJA"
   ]
  },
  {
   "cell_type": "code",
   "execution_count": 1,
   "metadata": {},
   "outputs": [
    {
     "name": "stdout",
     "output_type": "stream",
     "text": [
      "You have lived for 5 years.\n"
     ]
    }
   ],
   "source": [
    "age = input('Enter your age: ')\n",
    "print('You have lived for', age, \"years.\")"
   ]
  },
  {
   "cell_type": "markdown",
   "metadata": {},
   "source": [
    "OPERATORJI:"
   ]
  },
  {
   "cell_type": "markdown",
   "metadata": {},
   "source": [
    "- +seštevanje  \n",
    "- -odštevanje\n",
    "- *množenje\n",
    "- / deljenje\n",
    "- // celoštevilsko deljenje\n",
    "- ** eksponent\n",
    "- % ostanek pri deljenju"
   ]
  },
  {
   "cell_type": "markdown",
   "metadata": {},
   "source": [
    "Logične operacije:\n"
   ]
  },
  {
   "cell_type": "markdown",
   "metadata": {},
   "source": [
    " \n",
    "- not\n",
    "- or\n",
    "- and\n",
    "- is > Primerja identiteto\n",
    "- in > Preverja, če je vrednost znotraj primerjalne vrednosti"
   ]
  },
  {
   "cell_type": "markdown",
   "metadata": {},
   "source": [
    "LIST"
   ]
  },
  {
   "cell_type": "code",
   "execution_count": 2,
   "metadata": {},
   "outputs": [
    {
     "name": "stdout",
     "output_type": "stream",
     "text": [
      "['pingvin', 'medved', 'los', 'volk']\n"
     ]
    }
   ],
   "source": [
    "živali = [\"pingvin\", \"medved\", \"los\", \"volk\"]\n",
    "print(živali)"
   ]
  },
  {
   "cell_type": "markdown",
   "metadata": {},
   "source": [
    "Glavne karakteristike list-ov so:\n",
    "- Seznami so urejeni\n",
    "- Seznami lahko vsebujejo poljubne elemente.\n",
    "- Do elementov seznama lahko dostopate z indeksom.\n",
    "- Sezname je mogoče ugnezditi do poljubne globine.\n",
    "- Seznami so spremenljivi.\n",
    "- Seznami so dinamični.\n",
    "- V Pythonu se indexiranje začne z 0."
   ]
  },
  {
   "cell_type": "code",
   "execution_count": 1,
   "metadata": {},
   "outputs": [
    {
     "name": "stdout",
     "output_type": "stream",
     "text": [
      "foo\n",
      "baz\n",
      "qux\n"
     ]
    }
   ],
   "source": [
    "a = ['foo', 'bar', 'baz', 'qux', 'quux', 'corge']\n",
    "print(a[0])\n",
    "print(a[2])\n",
    "print(a[3])\n"
   ]
  },
  {
   "cell_type": "markdown",
   "metadata": {},
   "source": [
    "TUPLE -IMUTABLE (NESPREMENLJIVA VREDNOST)"
   ]
  },
  {
   "cell_type": "code",
   "execution_count": 3,
   "metadata": {},
   "outputs": [
    {
     "name": "stdout",
     "output_type": "stream",
     "text": [
      "('pingvin', 'medved', 'los', 'volk')\n"
     ]
    }
   ],
   "source": [
    "t = (\"pingvin\", \"medved\", \"los\", \"volk\")\n",
    "print(t)"
   ]
  },
  {
   "cell_type": "markdown",
   "metadata": {},
   "source": [
    "SLOVARJI"
   ]
  },
  {
   "cell_type": "code",
   "execution_count": 1,
   "metadata": {},
   "outputs": [
    {
     "name": "stdout",
     "output_type": "stream",
     "text": [
      "{'macek': 'Silvestre', 'pes': 'Fido', 'papagaj': 'Kakadu'}\n",
      "<class 'dict'>\n",
      "Kakadu\n"
     ]
    }
   ],
   "source": [
    "d = {\n",
    "'macek' : 'Silvestre',\n",
    "'pes' : 'Fido',\n",
    "'papagaj': 'Kakadu'\n",
    "}\n",
    "print(d)\n",
    "print(type(d))\n",
    "print(d['papagaj']) #vrednost najdemo preko ključev"
   ]
  },
  {
   "cell_type": "markdown",
   "metadata": {},
   "source": [
    "IF ELSE"
   ]
  },
  {
   "cell_type": "code",
   "execution_count": 3,
   "metadata": {},
   "outputs": [
    {
     "name": "stdout",
     "output_type": "stream",
     "text": [
      "End\n"
     ]
    }
   ],
   "source": [
    "x = 10\n",
    "y = 5\n",
    "if x < y:\n",
    " print(\"Smo znotraj if.\")\n",
    " print(\"End if\")\n",
    "print(\"End\")"
   ]
  },
  {
   "cell_type": "code",
   "execution_count": 4,
   "metadata": {},
   "outputs": [
    {
     "name": "stdout",
     "output_type": "stream",
     "text": [
      "(second block)\n",
      "x is large\n",
      "End\n"
     ]
    }
   ],
   "source": [
    "x = 100\n",
    "if x < 50:\n",
    " print('(first block)')\n",
    " print('x is small')\n",
    "else:\n",
    " print('(second block)')\n",
    " print('x is large')\n",
    "print(\"End\")\n"
   ]
  },
  {
   "cell_type": "code",
   "execution_count": 5,
   "metadata": {},
   "outputs": [
    {
     "name": "stdout",
     "output_type": "stream",
     "text": [
      "x večje od 10 in manjše od 30\n"
     ]
    }
   ],
   "source": [
    "x = 20\n",
    "if x > 100:\n",
    " print('x je večje od 100')\n",
    "elif x > 50:\n",
    " print('x večje od 50 in manjše od 100')\n",
    "elif x > 30:\n",
    " print('x večje od 30 in manjše od 50')\n",
    "elif x > 10:\n",
    " print('x večje od 10 in manjše od 30')\n",
    "else:\n",
    " print(\"x manjše od 10\")"
   ]
  },
  {
   "cell_type": "markdown",
   "metadata": {},
   "source": [
    "FOR"
   ]
  },
  {
   "cell_type": "code",
   "execution_count": 4,
   "metadata": {},
   "outputs": [
    {
     "name": "stdout",
     "output_type": "stream",
     "text": [
      "2 is a prime number.\n",
      "3 is a prime number.\n",
      "5 is a prime number.\n",
      "7 is a prime number.\n",
      "11 is a prime number.\n",
      "<class 'range'>\n",
      "[-5, -4, -3, -2, -1, 0, 1, 2, 3, 4, 5, 6, 7, 8, 9]\n",
      "1\n",
      "3\n",
      "5\n",
      "7\n",
      "9\n",
      "11\n",
      "13\n",
      "15\n",
      "17\n",
      "19\n"
     ]
    }
   ],
   "source": [
    "\n",
    "primes = [2, 3, 5, 7, 11] #itrable\n",
    "for prime in primes:\n",
    " print(f'{prime} is a prime number.')\n",
    "\n",
    " x = range(-5, 10, 1)\n",
    "print(type(x))\n",
    "print(list(x))\n",
    "for number in range(1,20,2):\n",
    " print(number)"
   ]
  },
  {
   "cell_type": "code",
   "execution_count": 8,
   "metadata": {},
   "outputs": [
    {
     "name": "stdout",
     "output_type": "stream",
     "text": [
      "macka je star/a 6 let.\n",
      "pes je star/a 12 let.\n",
      "krava je star/a 20 let.\n"
     ]
    }
   ],
   "source": [
    "pets = {\n",
    " 'macka': 6,\n",
    " 'pes': 12,\n",
    " 'krava': 20\n",
    "}\n",
    "for pet, years in pets.items():\n",
    " print(f'{pet} je star/a {years} let.')"
   ]
  },
  {
   "cell_type": "markdown",
   "metadata": {},
   "source": [
    "FUNKICJE"
   ]
  },
  {
   "cell_type": "code",
   "execution_count": 11,
   "metadata": {},
   "outputs": [
    {
     "name": "stdout",
     "output_type": "stream",
     "text": [
      "X vrednost: 1\n",
      "Y vrednost: 2\n",
      "Z vrednost: 3\n"
     ]
    }
   ],
   "source": [
    "def funkcija_1(x, y, z):\n",
    " print(f\"X vrednost: {x}\")\n",
    " print(f\"Y vrednost: {y}\")\n",
    " print(f\"Z vrednost: {z}\")\n",
    "funkcija_1(1,2,3)\n",
    "\n"
   ]
  },
  {
   "cell_type": "code",
   "execution_count": 12,
   "metadata": {},
   "outputs": [
    {
     "name": "stdout",
     "output_type": "stream",
     "text": [
      "Pozdrav\n",
      "None\n"
     ]
    }
   ],
   "source": [
    "def funkcija():\n",
    " print(\"Pozdrav\")\n",
    "x = funkcija()\n",
    "print(x)\n"
   ]
  },
  {
   "cell_type": "code",
   "execution_count": 13,
   "metadata": {},
   "outputs": [
    {
     "name": "stdout",
     "output_type": "stream",
     "text": [
      "Seštevam...\n",
      "3\n"
     ]
    }
   ],
   "source": [
    "def sestevalnik(x, y):\n",
    " print(\"Seštevam...\")\n",
    " vsota = x + y\n",
    " return vsota\n",
    "x = sestevalnik(1, 2)\n",
    "print(x)"
   ]
  },
  {
   "cell_type": "code",
   "execution_count": 14,
   "metadata": {},
   "outputs": [
    {
     "name": "stdout",
     "output_type": "stream",
     "text": [
      "Seštevam...\n",
      "3\n"
     ]
    }
   ],
   "source": [
    "def sestevalnik(x, y):\n",
    " print(\"Seštevam...\")\n",
    " vsota = x + y\n",
    " return vsota\n",
    " print(\"Končano\")\n",
    "x = sestevalnik(1, 2)\n",
    "print(x)"
   ]
  }
 ],
 "metadata": {
  "kernelspec": {
   "display_name": "Python 3",
   "language": "python",
   "name": "python3"
  },
  "language_info": {
   "codemirror_mode": {
    "name": "ipython",
    "version": 3
   },
   "file_extension": ".py",
   "mimetype": "text/x-python",
   "name": "python",
   "nbconvert_exporter": "python",
   "pygments_lexer": "ipython3",
   "version": "3.12.0"
  }
 },
 "nbformat": 4,
 "nbformat_minor": 2
}
