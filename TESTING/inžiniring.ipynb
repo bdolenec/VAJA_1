{
 "cells": [
  {
   "cell_type": "markdown",
   "metadata": {},
   "source": [
    "koda"
   ]
  },
  {
   "cell_type": "code",
   "execution_count": 20,
   "metadata": {},
   "outputs": [
    {
     "name": "stdout",
     "output_type": "stream",
     "text": [
      "W:\n",
      "10.857362047581297\n",
      "lbda:\n",
      "907.8965962802382\n",
      "L:\n",
      "9.8573620475813\n",
      "41304.263231784345\n"
     ]
    }
   ],
   "source": [
    "import math\n",
    "mi = 1000\n",
    "r = 0.99\n",
    "Mw = 50 * 10 ** (-3)\n",
    "Ts = 1 * 10 ** (-3)\n",
    "C = 0.5 * 10 ** 6\n",
    "C0= 3*10**8\n",
    "\n",
    "W = Mw / (math.log(1 / (1 - r)))\n",
    "print(\"W:\")\n",
    "print(W*10**3)\n",
    "\n",
    "\n",
    "lbda = (1 - W * mi)/(-W)\n",
    "print(\"lbda:\")\n",
    "print(lbda)\n",
    "\n",
    "L = lbda/(mi-lbda)\n",
    "print('L:')\n",
    "print(L)\n",
    "\n",
    "PACKET_lenght = C0/(8*lbda)\n",
    "print(PACKET_lenght)"
   ]
  }
 ],
 "metadata": {
  "kernelspec": {
   "display_name": ".venv",
   "language": "python",
   "name": "python3"
  },
  "language_info": {
   "codemirror_mode": {
    "name": "ipython",
    "version": 3
   },
   "file_extension": ".py",
   "mimetype": "text/x-python",
   "name": "python",
   "nbconvert_exporter": "python",
   "pygments_lexer": "ipython3",
   "version": "3.12.0"
  }
 },
 "nbformat": 4,
 "nbformat_minor": 2
}
